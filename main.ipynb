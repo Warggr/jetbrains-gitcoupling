{
 "cells": [
  {
   "cell_type": "code",
   "execution_count": 3,
   "id": "b1781039-196f-45be-9615-763e75c63195",
   "metadata": {},
   "outputs": [],
   "source": [
    "from main import create_developer_pair_dataset\n",
    "from git import Repo"
   ]
  },
  {
   "cell_type": "markdown",
   "id": "15309a0e-4948-4ba6-95df-6581603353f3",
   "metadata": {},
   "source": [
    "Downloading a repository from the web. *Warning*: don't clone a too big repository because analysis would become slow.\n",
    "The suggested repository with around 3000 commits is a good size."
   ]
  },
  {
   "cell_type": "code",
   "execution_count": 6,
   "id": "3f7df210-a3b5-4205-8fcc-7af52b6bae3c",
   "metadata": {},
   "outputs": [],
   "source": [
    "from tempfile import TemporaryDirectory\n",
    "tmp = TemporaryDirectory()\n",
    "\n",
    "repo_url = \"https://github.com/TUM-Dev/Campus-Android.git\"\n",
    "\n",
    "repo = Repo.clone_from(repo_url, tmp.name)"
   ]
  },
  {
   "cell_type": "markdown",
   "id": "900fa814-192a-45a7-8175-7ea3a1225731",
   "metadata": {},
   "source": [
    "Alternatively, use a local repository:"
   ]
  },
  {
   "cell_type": "code",
   "execution_count": 5,
   "id": "3b8d3ea7-098a-4c0a-87c8-c4654a3b3650",
   "metadata": {},
   "outputs": [],
   "source": [
    "repo = Repo('~/downloads/Incepted/Campus-Android')"
   ]
  },
  {
   "cell_type": "code",
   "execution_count": 7,
   "id": "ffcb8d74-49c3-4e40-b011-328540bdcc90",
   "metadata": {},
   "outputs": [
    {
     "ename": "NoSuchPathError",
     "evalue": "/media/pierre/sharedrive/home/pierre/Documents/pdpha/jetbrains/gitcoupling/<git.repo.base.Repo '/tmp/tmp_ne5h4zm/.git'>",
     "output_type": "error",
     "traceback": [
      "\u001b[0;31m---------------------------------------------------------------------------\u001b[0m",
      "\u001b[0;31mNoSuchPathError\u001b[0m                           Traceback (most recent call last)",
      "Cell \u001b[0;32mIn[7], line 1\u001b[0m\n\u001b[0;32m----> 1\u001b[0m dataset \u001b[38;5;241m=\u001b[39m \u001b[43mcreate_developer_pair_dataset\u001b[49m\u001b[43m(\u001b[49m\u001b[43mrepo\u001b[49m\u001b[43m,\u001b[49m\u001b[43m \u001b[49m\u001b[43mcount\u001b[49m\u001b[38;5;241;43m=\u001b[39;49m\u001b[38;5;124;43m'\u001b[39;49m\u001b[38;5;124;43mFILES_X_LINES\u001b[39;49m\u001b[38;5;124;43m'\u001b[39;49m\u001b[43m)\u001b[49m\n",
      "File \u001b[0;32m/media/pierre/sharedrive/home/pierre/Documents/pdpha/jetbrains/gitcoupling/main.py:71\u001b[0m, in \u001b[0;36mcreate_developer_pair_dataset\u001b[0;34m(repoPath, count)\u001b[0m\n\u001b[1;32m     66\u001b[0m \u001b[38;5;28;01mdef\u001b[39;00m \u001b[38;5;21mcreate_developer_pair_dataset\u001b[39m(repo: Repo, count: \u001b[38;5;28mstr\u001b[39m) \u001b[38;5;241m-\u001b[39m\u001b[38;5;241m>\u001b[39m pd\u001b[38;5;241m.\u001b[39mDataFrame:\n\u001b[1;32m     67\u001b[0m \u001b[38;5;250m    \u001b[39m\u001b[38;5;124;03m\"\"\" Creates dataset with all relevant info.\u001b[39;00m\n\u001b[1;32m     68\u001b[0m \n\u001b[1;32m     69\u001b[0m \u001b[38;5;124;03m    @param count: what to count; either 'FILES' or 'FILES_X_LINES'\u001b[39;00m\n\u001b[1;32m     70\u001b[0m \u001b[38;5;124;03m    \"\"\"\u001b[39;00m\n\u001b[0;32m---> 71\u001b[0m     lines_per_user_per_file \u001b[38;5;241m=\u001b[39m count_lines_per_user_per_file(repo)\n\u001b[1;32m     72\u001b[0m     lines_per_pair \u001b[38;5;241m=\u001b[39m get_pairs_of_developers(lines_per_user_per_file)\n\u001b[1;32m     73\u001b[0m     \u001b[38;5;28;01mif\u001b[39;00m count \u001b[38;5;241m==\u001b[39m \u001b[38;5;124m'\u001b[39m\u001b[38;5;124mFILES\u001b[39m\u001b[38;5;124m'\u001b[39m:\n",
      "File \u001b[0;32m~/.local/lib/python3.12/site-packages/git/repo/base.py:236\u001b[0m, in \u001b[0;36mRepo.__init__\u001b[0;34m(self, path, odbt, search_parent_directories, expand_vars)\u001b[0m\n\u001b[1;32m    234\u001b[0m \u001b[38;5;28;01mif\u001b[39;00m epath \u001b[38;5;129;01mis\u001b[39;00m \u001b[38;5;129;01mnot\u001b[39;00m \u001b[38;5;28;01mNone\u001b[39;00m:\n\u001b[1;32m    235\u001b[0m     \u001b[38;5;28;01mif\u001b[39;00m \u001b[38;5;129;01mnot\u001b[39;00m os\u001b[38;5;241m.\u001b[39mpath\u001b[38;5;241m.\u001b[39mexists(epath):\n\u001b[0;32m--> 236\u001b[0m         \u001b[38;5;28;01mraise\u001b[39;00m NoSuchPathError(epath)\n\u001b[1;32m    238\u001b[0m \u001b[38;5;66;03m# Walk up the path to find the `.git` dir.\u001b[39;00m\n\u001b[1;32m    239\u001b[0m curpath \u001b[38;5;241m=\u001b[39m epath\n",
      "\u001b[0;31mNoSuchPathError\u001b[0m: /media/pierre/sharedrive/home/pierre/Documents/pdpha/jetbrains/gitcoupling/<git.repo.base.Repo '/tmp/tmp_ne5h4zm/.git'>"
     ]
    }
   ],
   "source": [
    "dataset = create_developer_pair_dataset(repo, count='FILES_X_LINES')"
   ]
  },
  {
   "cell_type": "code",
   "execution_count": 11,
   "id": "b61f9c68-952e-45a1-8abc-287907d8f740",
   "metadata": {},
   "outputs": [
    {
     "data": {
      "text/plain": [
       "\"<git.repo.base.Repo '/tmp/tmp_ne5h4zm/.git'>\""
      ]
     },
     "execution_count": 11,
     "metadata": {},
     "output_type": "execute_result"
    }
   ],
   "source": []
  },
  {
   "cell_type": "code",
   "execution_count": null,
   "id": "d772f7fc-c4cf-4802-9a60-807fbafaa3a1",
   "metadata": {},
   "outputs": [],
   "source": []
  }
 ],
 "metadata": {
  "kernelspec": {
   "display_name": "Python 3 (ipykernel)",
   "language": "python",
   "name": "python3"
  },
  "language_info": {
   "codemirror_mode": {
    "name": "ipython",
    "version": 3
   },
   "file_extension": ".py",
   "mimetype": "text/x-python",
   "name": "python",
   "nbconvert_exporter": "python",
   "pygments_lexer": "ipython3",
   "version": "3.12.3"
  }
 },
 "nbformat": 4,
 "nbformat_minor": 5
}
